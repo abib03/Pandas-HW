{
 "cells": [
  {
   "cell_type": "code",
   "execution_count": null,
   "id": "8882c284-99a3-49ba-8a74-2b4d940ffdf7",
   "metadata": {},
   "outputs": [],
   "source": [
    "git@github.com:abib03/Pandas-HW.git"
   ]
  }
 ],
 "metadata": {
  "kernelspec": {
   "display_name": "Python 3 (ipykernel)",
   "language": "python",
   "name": "python3"
  },
  "language_info": {
   "codemirror_mode": {
    "name": "ipython",
    "version": 3
   },
   "file_extension": ".py",
   "mimetype": "text/x-python",
   "name": "python",
   "nbconvert_exporter": "python",
   "pygments_lexer": "ipython3",
   "version": "3.9.7"
  }
 },
 "nbformat": 4,
 "nbformat_minor": 5
}
